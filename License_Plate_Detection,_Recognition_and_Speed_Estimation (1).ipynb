{
  "nbformat": 4,
  "nbformat_minor": 0,
  "metadata": {
    "colab": {
      "name": "License Plate Detection, Recognition and Speed Estimation.ipynb",
      "provenance": []
    },
    "kernelspec": {
      "name": "python3",
      "display_name": "Python 3"
    },
    "language_info": {
      "name": "python"
    },
    "accelerator": "GPU"
  },
  "cells": [
    {
      "cell_type": "markdown",
      "metadata": {
        "id": "v0ISyq8-oCBA"
      },
      "source": [
        "# Install all dependencies required"
      ]
    },
    {
      "cell_type": "code",
      "metadata": {
        "id": "kfMXGLW0Stvv"
      },
      "source": [
        "#install pytorch\n",
        "!pip install pyyaml==5.1\n",
        "\n",
        "#install detectron2\n",
        "!pip install detectron2 -f https://dl.fbaipublicfiles.com/detectron2/wheels/cu102/torch1.9/index.html\n",
        "\n",
        "#install easyocr and imutils\n",
        "!pip install easyocr\n",
        "!pip install imutils"
      ],
      "execution_count": null,
      "outputs": []
    },
    {
      "cell_type": "code",
      "metadata": {
        "colab": {
          "base_uri": "https://localhost:8080/"
        },
        "id": "NUitNzQsSt_F",
        "outputId": "3a3dd670-d779-4fcb-e3b0-1fa7e2cbf9ec"
      },
      "source": [
        "#checking pytorch installation\n",
        "import torch, torchvision\n",
        "print(torch.__version__, torch.cuda.is_available())\n",
        "assert torch.__version__.startswith(\"1.9\")"
      ],
      "execution_count": null,
      "outputs": [
        {
          "output_type": "stream",
          "name": "stdout",
          "text": [
            "1.9.0+cu102 True\n"
          ]
        }
      ]
    },
    {
      "cell_type": "code",
      "metadata": {
        "id": "Odj9AlthS3Z2"
      },
      "source": [
        "#Some basic setup:\n",
        "# Setup detectron2 logger\n",
        "import detectron2\n",
        "from detectron2.utils.logger import setup_logger\n",
        "setup_logger()\n",
        "\n",
        "# import some common libraries\n",
        "import numpy as np\n",
        "import os, json, cv2, random\n",
        "import matplotlib.pyplot as plt\n",
        "from google.colab.patches import cv2_imshow\n",
        "import imutils\n",
        "import easyocr\n",
        "import pandas as pd\n",
        "import time\n",
        "\n",
        "# import some common detectron2 utilities\n",
        "from detectron2 import model_zoo\n",
        "from detectron2.engine import DefaultPredictor\n",
        "from detectron2.engine import DefaultTrainer\n",
        "from detectron2.config import get_cfg\n",
        "from detectron2.utils.visualizer import Visualizer\n",
        "from detectron2.data import MetadataCatalog, DatasetCatalog\n"
      ],
      "execution_count": null,
      "outputs": []
    },
    {
      "cell_type": "markdown",
      "metadata": {
        "id": "IgYcbYwJpYQD"
      },
      "source": [
        "# Importing trained model"
      ]
    },
    {
      "cell_type": "code",
      "metadata": {
        "id": "KBztSeXITDgh"
      },
      "source": [
        "cfg = get_cfg()\n",
        "cfg.merge_from_file(os.path.join(\"/content/drive/MyDrive/detectron2_model/config.yaml\"))\n",
        "cfg.MODEL.ROI_HEADS.SCORE_THRESH_TEST = 0.5  # set threshold for this model\n",
        "cfg.MODEL.WEIGHTS =  os.path.join(\"/content/drive/MyDrive/detectron2_model/model_final.pth\")"
      ],
      "execution_count": null,
      "outputs": []
    },
    {
      "cell_type": "markdown",
      "metadata": {
        "id": "bkbvGDxjqAAY"
      },
      "source": [
        "# Testing on video"
      ]
    },
    {
      "cell_type": "code",
      "metadata": {
        "id": "gVRodn5tS3dT"
      },
      "source": [
        "#loading video\n",
        "video = cv2.VideoCapture('/content/drive/MyDrive/testvideo_1.mp4')\n",
        "\n",
        "#creating empty list for storing speed, numberplate and time\n",
        "speed = []\n",
        "char=[]\n",
        "timing = []\n",
        "\n",
        "#specifying characters to be removed from the recognised number plate characters\n",
        "remov_chars = [';', ':', '!', '*', '@', '#', '$', '%', '^', '&', '(', ')', '[', ']', '?', '{','}']\n",
        "\n",
        "#specifying coordinates for speed detection\n",
        "coord=[[691,623],[1417,627],[439,703],[1527,705]]\n",
        "\n",
        "#specifying the distance\n",
        "dist = 11.8872\n",
        "\n",
        "\n",
        "\n",
        "# is video opened or not\n",
        "if (video.isOpened() == False): \n",
        "    print(\"Error reading video file\")\n",
        "  \n",
        "#set resolution\n",
        "frame_width = int(video.get(3))\n",
        "frame_height = int(video.get(4))\n",
        "   \n",
        "size = (frame_width, frame_height)\n",
        "   \n",
        "#write video and output stores in outputvideo file\n",
        "result = cv2.VideoWriter('outputvideo.avi', \n",
        "                         cv2.VideoWriter_fourcc(*'MJPG'),\n",
        "                         10, size)\n",
        "    \n",
        "while(True):\n",
        "    ret, frame = video.read()\n",
        "  \n",
        "    if ret == True: \n",
        "        \n",
        "        #predicting licenseplate\n",
        "        predictor = DefaultPredictor(cfg)\n",
        "        outputs = predictor(frame)\n",
        "\n",
        "        #boundingbox coordinates as array\n",
        "        array = outputs[\"instances\"].pred_boxes.tensor.cpu().numpy()\n",
        "        prob = outputs[\"instances\"].scores.cpu().numpy()\n",
        "        \n",
        "        if (array.size != 0):\n",
        "            scr = str(prob[0])\n",
        "            xmin, ymin, xmax, ymax = array[0][0], array[0][1], array[0][2], array[0][3]\n",
        "            start_pt = (int(xmin)-5, int(ymin)-5)\n",
        "            end_pt = (int(xmax)+5, int(ymax)+5)\n",
        "            \n",
        "            #drawing bounding box\n",
        "            cv2.rectangle(frame, start_pt, end_pt,(255,255,255), 3)\n",
        "            cv2.putText(frame, scr, end_pt, cv2.FONT_HERSHEY_SIMPLEX, \n",
        "                          1, (48, 217, 208), 2, cv2.LINE_AA)\n",
        "            #drawing lines for speed detection\n",
        "            cv2.line(frame, (coord[0][0],coord[0][1]),(coord[1][0],coord[1][1]),(0,0,255),2)   #First horizontal line\n",
        "            cv2.line(frame, (coord[0][0],coord[0][1]), (coord[2][0],coord[2][1]), (0, 0, 255), 2) #Vertical left line\n",
        "            cv2.line(frame, (coord[2][0],coord[2][1]), (coord[3][0], coord[3][1]), (0, 0, 255), 2) #Second horizontal line\n",
        "            cv2.line(frame, (coord[1][0],coord[1][1]), (coord[3][0], coord[3][1]), (0, 0, 255), 2) #Vertical right line\n",
        "             \n",
        "            for (xmin, ymin, xmax, ymax) in array:\n",
        "\n",
        "                # if coordinates of licenseplate pass first line, colour change to green and time will be noted as tim1\n",
        "                if ( xmin >= coord[0][0] and ymin >= coord[0][1]):\n",
        "                    cv2.line(frame, (coord[0][0], coord[0][1]), (coord[1][0], coord[1][1]), (0, 255,0), 2) #Changes line color to green\n",
        "                    tim1 = time.time() #Initial time\n",
        "                    converted_tim1 = str(tim1)\n",
        "                    print(tim1)\n",
        "                    cv2.putText(frame, 'Time : '+ converted_tim1, (50, 50), cv2.FONT_HERSHEY_SIMPLEX, \n",
        "                          2, (0, 0, 255), 2, cv2.LINE_AA) \n",
        "                    print(\"Car Entered.\")\n",
        "\n",
        "                 # if coordinates of licenseplate pass second line, colour change to green and time will be noted as tim2\n",
        "                if ( xmin >= coord[2][0] and ymin >= coord[2][1]):\n",
        "                    cv2.line(frame, (coord[2][0],coord[2][1]), (coord[3][0], coord[3][1]), (0, 0, 255), 2) #Changes line color to green\n",
        "                    tim2 = time.time() #Final time\n",
        "                    print(tim2)\n",
        "                    print(\"Car Left.\")\n",
        "            \n",
        "                   \n",
        "                    # speed is calculated\n",
        "                    spd_m = dist/(tim2-tim1) # speed in metre\n",
        "\n",
        "                    spd_k = (spd_m * 3.6)   # speed in kilometre\n",
        "\n",
        "                    spd = round(spd_k,2)    # rounding off to two decimal places\n",
        "                    converted_spd = str(spd)\n",
        "                    print(\"speed detected\")\n",
        "                    \n",
        "                    \n",
        "                    \n",
        "            \n",
        "            #cropped image of license plate\n",
        "            cropped_img = frame[int(ymin)-5:int(ymax)+5, int(xmin)-5:int(xmax)+5]\n",
        "        \n",
        "             # Checking if the image is empty or not\n",
        "            if cropped_img is not None:\n",
        "                gray = cv2.cvtColor(cropped_img, cv2.COLOR_BGR2RGB)\n",
        "\n",
        "                #reading text using easyocr\n",
        "                reader = easyocr.Reader(['en'])\n",
        "                res = reader.readtext(gray)\n",
        "                \n",
        "                #extracting only the characters\n",
        "                if (res != []) :\n",
        "                    x = res[0][1]\n",
        "\n",
        "                    #removing undesired characters\n",
        "                    for i in remov_chars :\n",
        "                        x = x.replace(i, '')\n",
        "\n",
        "                    #specifying length of characters\n",
        "                    if  ((len(x.strip(\"\\n\")) >= 6) and (len(x.strip(\"\\n\")) <= 11)) :\n",
        "                        \n",
        "                        plate = x\n",
        "                        #storing characters in a list\n",
        "                        \n",
        "                        cv2.putText(frame, 'Number plate : '+ plate, (50, 300), cv2.FONT_HERSHEY_SIMPLEX, \n",
        "                          2, (255, 255, 255), 3, cv2.LINE_AA)\n",
        "                        cv2.putText(frame, 'Speed : '+ converted_spd + 'kmph', (50,200), cv2.FONT_HERSHEY_SIMPLEX, \n",
        "                          2, (255,0,0), 3, cv2.LINE_AA)\n",
        "                        try:\n",
        "                              #storing speed and time in lists\n",
        "                            speed.append(spd)\n",
        "                            timing.append(tim1)\n",
        "                            char.append(plate)\n",
        "                        except NameError:\n",
        "                            print(\"Variable is not defined....!\")\n",
        "\n",
        "                            \n",
        "                          \n",
        "  \n",
        "\n",
        "        # Write the frame into the\n",
        "        # file 'output.avi'\n",
        "        result.write(frame)\n",
        "  \n",
        "        # Display the frame\n",
        "        # saved in the file\n",
        "        cv2_imshow( frame)\n",
        "  \n",
        "    # Break the loop\n",
        "    else:\n",
        "        break\n",
        "  \n",
        " \n",
        "# write objects\n",
        "video.release()\n",
        "result.release()\n",
        "    \n",
        "\n",
        "   \n",
        "print(\"The video was successfully saved\")\n",
        "\n",
        "\n"
      ],
      "execution_count": null,
      "outputs": []
    },
    {
      "cell_type": "code",
      "metadata": {
        "id": "SR-8SHSpTMRg"
      },
      "source": [
        "# Download the results\n",
        "from google.colab import files\n",
        "files.download('/content/outputvideo.avi')"
      ],
      "execution_count": null,
      "outputs": []
    },
    {
      "cell_type": "code",
      "metadata": {
        "id": "AfpoBZEvrEFB"
      },
      "source": [
        "# generating output csv file\n",
        "dict = {'Number plate': char, 'Speed': speed, 'Time': timing} \n",
        "df = pd.DataFrame(dict)\n",
        "df.to_csv('output.csv')"
      ],
      "execution_count": null,
      "outputs": []
    }
  ]
}